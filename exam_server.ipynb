{
 "cells": [
  {
   "cell_type": "code",
   "execution_count": 49,
   "metadata": {},
   "outputs": [
    {
     "name": "stdout",
     "output_type": "stream",
     "text": [
      "서버 가동.\n",
      "받은 메시지: get 10000000\n",
      "메세지 200개 전송 완료.\n"
     ]
    }
   ],
   "source": [
    "from socket import*\n",
    "import time\n",
    "\n",
    "HOST = '127.0.0.1'\n",
    "PORT = 50000\n",
    "MAXSIZE = 50000\n",
    "\n",
    "srvSock = socket(AF_INET, SOCK_DGRAM)\n",
    "srvSock.bind((HOST, PORT))\n",
    "\n",
    "print(\"서버 가동.\")\n",
    "\n",
    "data, addr = srvSock.recvfrom(1024)\n",
    "\n",
    "print(f\"받은 메시지: {data.decode()}\")\n",
    "len=data.decode().split(' ')[1]\n",
    "\n",
    "n = int(len)//MAXSIZE\n",
    "remain = int(len)%MAXSIZE\n",
    "\n",
    "total_messages = n + (1 if remain > 0 else 0)\n",
    "srvSock.sendto(str(total_messages).encode(), addr)\n",
    "\n",
    "for i in range(n):\n",
    "    msg='A'*MAXSIZE\n",
    "    srvSock.sendto(msg.encode(), addr)\n",
    "    time.sleep(0.001)\n",
    "msg='A'*remain\n",
    "srvSock.sendto(msg.encode(), addr)\n",
    "print(f\"메세지 {total_messages}개 전송 완료.\")\n",
    "\n",
    "srvSock.close()"
   ]
  }
 ],
 "metadata": {
  "kernelspec": {
   "display_name": "Python 3",
   "language": "python",
   "name": "python3"
  },
  "language_info": {
   "codemirror_mode": {
    "name": "ipython",
    "version": 3
   },
   "file_extension": ".py",
   "mimetype": "text/x-python",
   "name": "python",
   "nbconvert_exporter": "python",
   "pygments_lexer": "ipython3",
   "version": "3.13.0"
  }
 },
 "nbformat": 4,
 "nbformat_minor": 2
}
